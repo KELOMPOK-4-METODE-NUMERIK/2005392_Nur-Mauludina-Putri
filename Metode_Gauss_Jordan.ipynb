{
  "nbformat": 4,
  "nbformat_minor": 0,
  "metadata": {
    "colab": {
      "provenance": []
    },
    "kernelspec": {
      "name": "python3",
      "display_name": "Python 3"
    },
    "language_info": {
      "name": "python"
    }
  },
  "cells": [
    {
      "cell_type": "markdown",
      "source": [
        "**Metode Gauss Jordan**"
      ],
      "metadata": {
        "id": "IYfhah_pbWi8"
      }
    },
    {
      "cell_type": "code",
      "execution_count": null,
      "metadata": {
        "id": "aTpLyiKmbQy1"
      },
      "outputs": [],
      "source": [
        "import numpy as np\n",
        "import sys\n",
        "\n",
        "n = int(input('Masukkan jumlah variabel: ')) #Memasukkan jumlah variabel yang akan dieksekusi\n",
        "a = np.zeros((n,n+1))\n",
        "x = np.zeros(n)\n",
        "\n",
        "print('Masukkan koefisien dan nilai kanan pada SPL:') #Memasukkan koefisian dan nilai kanan\n",
        "for i in range(n): #Perulangan jika i sampai dengan n\n",
        "    for j in range(n+1): #Perulangan jika i sampai dengan n+1\n",
        "        a[i][j] = float(input( 'a['+str(i)+']['+ str(j)+']=')) #Memasukkan nilai dari a[i][j]\n",
        "\n",
        "for i in range(n):\n",
        "    if a[i][i] == 0.0: #Jika terdapat 0 pada diagonal utama maka sistem akan keluar\n",
        "        sys.exit('Terdapat nilai 0 pada diagonal utama')\n",
        "        \n",
        "    for j in range(n):\n",
        "        if i != j: #jika i tidak sama dengan j, maka:\n",
        "            ratio = a[j][i]/a[i][i] #nilai a[j][i] dibagi dengan a[i][i] ditampung di variabel ratio\n",
        "\n",
        "            for k in range(n+1):\n",
        "                a[j][k] = a[j][k] - ratio * a[i][k]\n",
        "\n",
        "for i in range(n):\n",
        "    x[i] = a[i][n]/a[i][i]\n",
        "\n",
        "print('\\nSolusi SPL yang didapat dari jumlah variabel yang diinput adalah: ')\n",
        "for i in range(n):\n",
        "    print('X%d = %0.2f' %(i,x[i]), end = '\\t')"
      ]
    }
  ]
}