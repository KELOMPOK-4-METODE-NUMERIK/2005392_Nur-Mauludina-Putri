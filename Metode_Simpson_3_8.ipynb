{
  "nbformat": 4,
  "nbformat_minor": 0,
  "metadata": {
    "colab": {
      "provenance": []
    },
    "kernelspec": {
      "name": "python3",
      "display_name": "Python 3"
    },
    "language_info": {
      "name": "python"
    }
  },
  "cells": [
    {
      "cell_type": "markdown",
      "source": [
        "**Metode Simpson 3/8**"
      ],
      "metadata": {
        "id": "WUxFSZ0T-fJ4"
      }
    },
    {
      "cell_type": "code",
      "execution_count": 1,
      "metadata": {
        "colab": {
          "base_uri": "https://localhost:8080/"
        },
        "id": "Is8xwLYz-UAE",
        "outputId": "3a322b59-57f0-474a-c31c-525f000e1fcd"
      },
      "outputs": [
        {
          "output_type": "stream",
          "name": "stdout",
          "text": [
            "1.833858418121051\n"
          ]
        }
      ],
      "source": [
        "import numpy as np\n",
        "\n",
        "def func(x):\n",
        "  return (x**2)*np.exp(-x)\n",
        "\n",
        "a = 1.0\n",
        "b = 10.0\n",
        "n = 300 #harus kelipatan 3 karena simpson 3/8\n",
        "\n",
        "h = (b-a)/n\n",
        "x = np.linspace(a, b, n+1)\n",
        "\n",
        "dalam = func(a) + func(b)\n",
        "for i in range(1, n):\n",
        "  if np.mod(i, 3) == 0:\n",
        "    dalam = dalam + 2.0*func(x[i])\n",
        "  else:\n",
        "    dalam = dalam + 3.0*func(x[i])\n",
        "\n",
        "hasil = (3.0*h/8.0)*dalam\n",
        "print(hasil)"
      ]
    }
  ]
}