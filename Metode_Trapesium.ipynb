{
  "nbformat": 4,
  "nbformat_minor": 0,
  "metadata": {
    "colab": {
      "provenance": []
    },
    "kernelspec": {
      "name": "python3",
      "display_name": "Python 3"
    },
    "language_info": {
      "name": "python"
    }
  },
  "cells": [
    {
      "cell_type": "code",
      "execution_count": 9,
      "metadata": {
        "colab": {
          "base_uri": "https://localhost:8080/",
          "height": 282
        },
        "id": "Emew316iccYH",
        "outputId": "c534ff87-9cc6-43a8-e416-58749483695f"
      },
      "outputs": [
        {
          "output_type": "stream",
          "name": "stdout",
          "text": [
            "1.8025164595168974\n"
          ]
        },
        {
          "output_type": "display_data",
          "data": {
            "text/plain": [
              "<Figure size 432x288 with 1 Axes>"
            ],
            "image/png": "[encoded data removed]"
          },
          "metadata": {
            "needs_background": "light"
          }
        }
      ],
      "source": [
        "import numpy as np\n",
        "import matplotlib.pyplot as plt\n",
        "\n",
        "def func(x):\n",
        "  return (x**2)*np.exp(-x)\n",
        "\n",
        "a = 1.0\n",
        "b = 10.0\n",
        "n = 10\n",
        "  \n",
        "dx = (b-a)/(n-1)\n",
        "x = np.linspace(a, b, n)\n",
        "\n",
        "sum = 0.0\n",
        "for i in range(1, n-1):\n",
        "  sum += func(x[i])\n",
        "\n",
        "hasil = 0.5*dx*(func(x[0]) + 2.0*sum+func(x[-1]))\n",
        "\n",
        "print(hasil)\n",
        "nd = 1000\n",
        "xp = np.linspace(a, b, nd)\n",
        "\n",
        "plt.plot(xp, func(xp))\n",
        "\n",
        "for i in range(n):\n",
        "  plt.bar(x[i], func(x[i]),\n",
        "          align = 'edge',\n",
        "          width = 0.000001,\n",
        "          color = 'gray',\n",
        "          edgecolor = 'red')\n",
        "  \n",
        "plt.fill_between(x, func(x),\n",
        "                 color = 'gray')\n",
        "\n",
        "plt.show()\n",
        "\n"
      ]
    }
  ]
}