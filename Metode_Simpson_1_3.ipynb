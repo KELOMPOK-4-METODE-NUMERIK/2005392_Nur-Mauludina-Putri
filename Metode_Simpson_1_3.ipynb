{
  "nbformat": 4,
  "nbformat_minor": 0,
  "metadata": {
    "colab": {
      "provenance": []
    },
    "kernelspec": {
      "name": "python3",
      "display_name": "Python 3"
    },
    "language_info": {
      "name": "python"
    }
  },
  "cells": [
    {
      "cell_type": "markdown",
      "source": [
        "**Metode Simpson 1/3**"
      ],
      "metadata": {
        "id": "W7RebtkA9bfx"
      }
    },
    {
      "cell_type": "code",
      "execution_count": 2,
      "metadata": {
        "colab": {
          "base_uri": "https://localhost:8080/"
        },
        "id": "4G86tZqx881m",
        "outputId": "9144e24e-e68a-4ddb-ee41-94472e5daac2"
      },
      "outputs": [
        {
          "output_type": "stream",
          "name": "stdout",
          "text": [
            "1.833858546338194\n"
          ]
        }
      ],
      "source": [
        "import numpy as np\n",
        "\n",
        "def func(x):\n",
        "  return (x**2)*np.exp(-x)\n",
        "\n",
        "a = 1.0\n",
        "b = 10.0\n",
        "n = 100\n",
        "\n",
        "h = (b-a)/n\n",
        "x = np.linspace(a, b, n+1)\n",
        "\n",
        "sum_genap = 0.0\n",
        "sum_ganjil = 0.0\n",
        "for i in range(1, n):\n",
        "  if np.mod(i, 2) == 0:\n",
        "    sum_genap = sum_genap + 2*func(x[i])\n",
        "  else:\n",
        "    sum_ganjil = sum_ganjil + 4*func(x[i])\n",
        "\n",
        "hasil = (h/3)*(func(a) + sum_ganjil + sum_genap + func(b))\n",
        "\n",
        "print(hasil)"
      ]
    }
  ]
}