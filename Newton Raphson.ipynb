{
  "nbformat": 4,
  "nbformat_minor": 0,
  "metadata": {
    "colab": {
      "provenance": []
    },
    "kernelspec": {
      "name": "python3",
      "display_name": "Python 3"
    },
    "language_info": {
      "name": "python"
    }
  },
  "cells": [
    {
      "cell_type": "markdown",
      "source": [
        "# **Tugas Newton Raphson**"
      ],
      "metadata": {
        "id": "_l79MbNaaO9N"
      }
    },
    {
      "cell_type": "markdown",
      "source": [
        "1. Buatlah algoritma Newton Raphson dengan bahasa sendiri\n",
        "2. Selesaikan contoh soal yang telah dikerjakan minggu kemarin dengan metode bagi dua menggunakan metode Newton Raphson\n",
        "> Soal: f(x) = x^2-2x-8\n",
        "\n",
        "\n",
        "\n"
      ],
      "metadata": {
        "id": "An67N-zHvwVR"
      }
    },
    {
      "cell_type": "code",
      "source": [
        "#Nomor 1\n",
        "import numpy as np\n",
        "def newton_raphson(f, df, x0, e):\n",
        "  N = 100\n",
        "  for i in range (0, N):\n",
        "    if abs(f(x0)) < e:\n",
        "      return x0\n",
        "    if df(x0) == 0:\n",
        "      print(\"Pemilihan titik awal tidak sesuai, menyebabkan fungsi turunannya sama dengan 0\")\n",
        "      return None\n",
        "    x0 = x0 - f(x0)/df(x0)\n",
        "  return x0\n",
        "\n",
        "#Nomor 2\n",
        "f = lambda x: x**2-2*x-8\n",
        "df = lambda x: 2*x-2\n",
        "hasil = newton_raphson(f, df, 1, 0.0001)\n",
        "print(\"Akarnya:\", hasil)"
      ],
      "metadata": {
        "colab": {
          "base_uri": "https://localhost:8080/"
        },
        "id": "WVcDe6uOv0P4",
        "outputId": "6dd6d417-2fd1-4fb8-a185-5c67a1997e31"
      },
      "execution_count": null,
      "outputs": [
        {
          "output_type": "stream",
          "name": "stdout",
          "text": [
            "Pemilihan titik awal tidak sesuai, menyebabkan fungsi turunannya sama dengan 0\n",
            "Akarnya: None\n"
          ]
        }
      ]
    }
  ]
}