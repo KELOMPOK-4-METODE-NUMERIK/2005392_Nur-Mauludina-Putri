{
  "nbformat": 4,
  "nbformat_minor": 0,
  "metadata": {
    "colab": {
      "provenance": []
    },
    "kernelspec": {
      "name": "python3",
      "display_name": "Python 3"
    },
    "language_info": {
      "name": "python"
    }
  },
  "cells": [
    {
      "cell_type": "markdown",
      "source": [
        "## **Akar Persamaan Non-Linier**\n",
        "Berikut ini merupakan fungsi dasar dari metode yang dapat digunakan untuk mencari akar Persamaan non-Linier"
      ],
      "metadata": {
        "id": "Tlb0XvJxS_oW"
      }
    },
    {
      "cell_type": "markdown",
      "source": [
        "**Pencarian Akar dengan Library**\n",
        "\n",
        "Contoh Fungsi: f(x) = cos(x)-x"
      ],
      "metadata": {
        "id": "8zXDT3F6UTm8"
      }
    },
    {
      "cell_type": "code",
      "source": [
        "import numpy as np #memanggil library numpy\n",
        "from scipy import optimize #memanggil library optimize dari scipy\n",
        "f = lambda x: np.cos(x) - x #membuat fungsi dalam satu baris ekspresi (x adalah parameter, np.cos(x)-x adalah isi fungsi)\n",
        "                            #lambda bisa memiliki lebih dari satu parameter, tapi hanya bisa memiliki satu ekspresi atau isi\n",
        "r = optimize.fsolve(f, -2) #mencari akar dari sebuah fungsi\n",
        "print(\"r =\",r)\n",
        "# Verify the solution is a root\n",
        "result = f(r)\n",
        "print(\"result=\", result)"
      ],
      "metadata": {
        "colab": {
          "base_uri": "https://localhost:8080/"
        },
        "id": "gMnlEqjjUnAa",
        "outputId": "dba31922-a0e9-40d4-b136-dad342f9b7fa"
      },
      "execution_count": null,
      "outputs": [
        {
          "output_type": "stream",
          "name": "stdout",
          "text": [
            "r = [0.73908513]\n",
            "result= [0.]\n"
          ]
        }
      ]
    },
    {
      "cell_type": "markdown",
      "source": [
        "**Metode Bagi Dua**"
      ],
      "metadata": {
        "id": "ySxrsdzGTn0Z"
      }
    },
    {
      "cell_type": "code",
      "execution_count": null,
      "metadata": {
        "id": "j7lAxfNeS9M0"
      },
      "outputs": [],
      "source": [
        "import numpy as np #memanggil library numpy\n",
        "def my_bisection(f, a, b, e): #mendefinisikan fungsi dengan variabel my_bisection\n",
        "  if np.sign(f(a)) == np.sign(f(b)): #jika tanda f(a) sama dengan f(b), maka:\n",
        "    raise Exception('Tidak ada akar pada interval a dan b') #mengeluarkan error ketika tidak ada akar\n",
        "  m = (a + b)/2\n",
        "  if np.abs(f(m)) < e: #jika nilai absolut f(m) kurang dari e, maka:\n",
        "    return m #mengembalikan nilai m\n",
        "  elif np.sign(f(a)) == np.sign(f(m)): #jika tanda f(a) sama dengan f(m), maka:\n",
        "    return my_bisection(f, m, b, e) #mengembalikan fungsi my_bisection(f, m, b, e) -> variabel a diganti dengan m\n",
        "  elif np.sign(f(b)) == np.sign(f(m)): #jika tanda f(b) sama dengan f(m), maka: \n",
        "    return my_bisection(f, a, m, e) #mengembalikan fungsi my_bisection (f, a, m, e) -> variabel b diganti dengan m"
      ]
    },
    {
      "cell_type": "markdown",
      "source": [
        "**Contoh Pencarian Akar dengan Metode Bagi Dua**\n",
        "\n",
        "f(x)=x^2 - 2"
      ],
      "metadata": {
        "id": "QK5X5eINXZln"
      }
    },
    {
      "cell_type": "code",
      "source": [
        "import numpy as np #memanggil library numpy\n",
        "f = lambda x: x**2-2 #membuat fungsi dalam satu baris ekspresi (x adalah parameter, x**2-2 adalah isi fungsi)\n",
        "                     #lambda bisa memiliki lebih dari satu parameter, tapi hanya bisa memiliki satu ekspresi atau isi\n",
        "\n",
        "r1 = my_bisection(f, 0, 2, 0.1) #mengisi variabel r1 dengan fungsi my_bisection\n",
        "print(\"r1 =\", r1)\n",
        "print(\"f(r1) =\", f(r1))\n",
        "\n",
        "r01 = my_bisection(f, 0, 2, 0.01) #mengisi variabel r01 dengan fungsi my_bisection\n",
        "print(\"r01 =\", r01)\n",
        "print(\"f(r01) =\", f(r01))"
      ],
      "metadata": {
        "colab": {
          "base_uri": "https://localhost:8080/"
        },
        "id": "eJr_l7e2XyM0",
        "outputId": "9f0a0bf6-a59a-4ae7-fc1c-e4c436d940ea"
      },
      "execution_count": null,
      "outputs": [
        {
          "output_type": "stream",
          "name": "stdout",
          "text": [
            "r1 = 1.4375\n",
            "f(r1) = 0.06640625\n",
            "r01 = 1.4140625\n",
            "f(r01) = -0.00042724609375\n"
          ]
        }
      ]
    },
    {
      "cell_type": "code",
      "source": [
        "import numpy as np #memanggil library numpy\n",
        "f = lambda x: x**2-2\n",
        "my_bisection(f, 2, 4, 0.01) #memanggil fungsi my_bisection"
      ],
      "metadata": {
        "colab": {
          "base_uri": "https://localhost:8080/",
          "height": 322
        },
        "id": "wXEmWDL3Yh1R",
        "outputId": "66a66430-8175-4210-f0f5-180d79f1eb76"
      },
      "execution_count": null,
      "outputs": [
        {
          "output_type": "error",
          "ename": "Exception",
          "evalue": "ignored",
          "traceback": [
            "\u001b[0;31m---------------------------------------------------------------------------\u001b[0m",
            "\u001b[0;31mException\u001b[0m                                 Traceback (most recent call last)",
            "\u001b[0;32m<ipython-input-13-9db7d48a44ca>\u001b[0m in \u001b[0;36m<module>\u001b[0;34m\u001b[0m\n\u001b[1;32m      1\u001b[0m \u001b[0;32mimport\u001b[0m \u001b[0mnumpy\u001b[0m \u001b[0;32mas\u001b[0m \u001b[0mnp\u001b[0m \u001b[0;31m#panggil library\u001b[0m\u001b[0;34m\u001b[0m\u001b[0;34m\u001b[0m\u001b[0m\n\u001b[1;32m      2\u001b[0m \u001b[0mf\u001b[0m \u001b[0;34m=\u001b[0m \u001b[0;32mlambda\u001b[0m \u001b[0mx\u001b[0m\u001b[0;34m:\u001b[0m \u001b[0mx\u001b[0m\u001b[0;34m**\u001b[0m\u001b[0;36m2\u001b[0m\u001b[0;34m-\u001b[0m\u001b[0;36m2\u001b[0m\u001b[0;34m\u001b[0m\u001b[0;34m\u001b[0m\u001b[0m\n\u001b[0;32m----> 3\u001b[0;31m \u001b[0mmy_bisection\u001b[0m\u001b[0;34m(\u001b[0m\u001b[0mf\u001b[0m\u001b[0;34m,\u001b[0m \u001b[0;36m2\u001b[0m\u001b[0;34m,\u001b[0m \u001b[0;36m4\u001b[0m\u001b[0;34m,\u001b[0m \u001b[0;36m0.01\u001b[0m\u001b[0;34m)\u001b[0m\u001b[0;34m\u001b[0m\u001b[0;34m\u001b[0m\u001b[0m\n\u001b[0m",
            "\u001b[0;32m<ipython-input-11-232ee789a6b2>\u001b[0m in \u001b[0;36mmy_bisection\u001b[0;34m(f, a, b, e)\u001b[0m\n\u001b[1;32m      2\u001b[0m \u001b[0;32mdef\u001b[0m \u001b[0mmy_bisection\u001b[0m\u001b[0;34m(\u001b[0m\u001b[0mf\u001b[0m\u001b[0;34m,\u001b[0m \u001b[0ma\u001b[0m\u001b[0;34m,\u001b[0m \u001b[0mb\u001b[0m\u001b[0;34m,\u001b[0m \u001b[0me\u001b[0m\u001b[0;34m)\u001b[0m\u001b[0;34m:\u001b[0m\u001b[0;34m\u001b[0m\u001b[0;34m\u001b[0m\u001b[0m\n\u001b[1;32m      3\u001b[0m   \u001b[0;32mif\u001b[0m \u001b[0mnp\u001b[0m\u001b[0;34m.\u001b[0m\u001b[0msign\u001b[0m\u001b[0;34m(\u001b[0m\u001b[0mf\u001b[0m\u001b[0;34m(\u001b[0m\u001b[0ma\u001b[0m\u001b[0;34m)\u001b[0m\u001b[0;34m)\u001b[0m \u001b[0;34m==\u001b[0m \u001b[0mnp\u001b[0m\u001b[0;34m.\u001b[0m\u001b[0msign\u001b[0m\u001b[0;34m(\u001b[0m\u001b[0mf\u001b[0m\u001b[0;34m(\u001b[0m\u001b[0mb\u001b[0m\u001b[0;34m)\u001b[0m\u001b[0;34m)\u001b[0m\u001b[0;34m:\u001b[0m\u001b[0;34m\u001b[0m\u001b[0;34m\u001b[0m\u001b[0m\n\u001b[0;32m----> 4\u001b[0;31m     \u001b[0;32mraise\u001b[0m \u001b[0mException\u001b[0m\u001b[0;34m(\u001b[0m\u001b[0;34m'Tidak ada akar pada interval a dan b'\u001b[0m\u001b[0;34m)\u001b[0m\u001b[0;34m\u001b[0m\u001b[0;34m\u001b[0m\u001b[0m\n\u001b[0m\u001b[1;32m      5\u001b[0m   \u001b[0mm\u001b[0m \u001b[0;34m=\u001b[0m \u001b[0;34m(\u001b[0m\u001b[0ma\u001b[0m \u001b[0;34m+\u001b[0m \u001b[0mb\u001b[0m\u001b[0;34m)\u001b[0m\u001b[0;34m/\u001b[0m\u001b[0;36m2\u001b[0m\u001b[0;34m\u001b[0m\u001b[0;34m\u001b[0m\u001b[0m\n\u001b[1;32m      6\u001b[0m   \u001b[0;32mif\u001b[0m \u001b[0mnp\u001b[0m\u001b[0;34m.\u001b[0m\u001b[0mabs\u001b[0m\u001b[0;34m(\u001b[0m\u001b[0mf\u001b[0m\u001b[0;34m(\u001b[0m\u001b[0mm\u001b[0m\u001b[0;34m)\u001b[0m\u001b[0;34m)\u001b[0m \u001b[0;34m<\u001b[0m \u001b[0me\u001b[0m\u001b[0;34m:\u001b[0m\u001b[0;34m\u001b[0m\u001b[0;34m\u001b[0m\u001b[0m\n",
            "\u001b[0;31mException\u001b[0m: Tidak ada akar pada interval a dan b"
          ]
        }
      ]
    },
    {
      "cell_type": "markdown",
      "source": [
        "**Metode Newton-Raphson**"
      ],
      "metadata": {
        "id": "uqd3qNtxS939"
      }
    },
    {
      "cell_type": "code",
      "source": [
        "import numpy as np #panggil library\n",
        "def my_newton(f, df, x0, e):\n",
        "# output is an estimation of the root of f\n",
        "# using the Newton-Raphson method\n",
        "# recursive implementation\n",
        "  if abs(f(x0)) < e:\n",
        "    return x0\n",
        "  else:\n",
        "    return my_newton(f, df, x0 - f(x0)/df(x0), e)"
      ],
      "metadata": {
        "id": "NWM7-9tpVr0a"
      },
      "execution_count": null,
      "outputs": []
    },
    {
      "cell_type": "markdown",
      "source": [
        "**Contoh Pencarian Akar dengan Metode Bagi Dua**\n",
        "\n",
        "f(x)=x^2 - 2"
      ],
      "metadata": {
        "id": "ffztAnc9ZbtI"
      }
    },
    {
      "cell_type": "code",
      "source": [
        "f = lambda x: x**2-2\n",
        "f_prime = lambda x: 2*x\n",
        "estimate = my_newton(f, f_prime, 1.5, 1e-6)\n",
        "print(\"estimate =\", estimate)\n",
        "print(\"sqrt(2) =\",np.sqrt(2))"
      ],
      "metadata": {
        "colab": {
          "base_uri": "https://localhost:8080/"
        },
        "id": "zFJnxIytZhln",
        "outputId": "e6d71caf-ed8a-4bd9-8946-7e39709d49c1"
      },
      "execution_count": null,
      "outputs": [
        {
          "output_type": "stream",
          "name": "stdout",
          "text": [
            "estimate = 1.4142135623746899\n",
            "sqrt(2) = 1.4142135623730951\n"
          ]
        }
      ]
    },
    {
      "cell_type": "markdown",
      "source": [
        "# **Latihan**"
      ],
      "metadata": {
        "id": "_l79MbNaaO9N"
      }
    },
    {
      "cell_type": "markdown",
      "source": [
        "**No.1 **\n",
        "Buatlah sebuah fungsi penyelesaian yang tepat baik dengan menggunakan metode Bagi Dua maupun Newton Raphson ketika \n",
        "\n",
        "a. f(x) = x^3 - 2x + 1\n",
        "\n",
        "b. f(x) = e^x - x\n",
        "\n",
        "**No 2**\n",
        "\n",
        "Buatlah modifikasi fungsi ketika kriteria program berhenti adalah sudah mencapai pada iterasi ke-n baik untuk Bagi Dua maupun Newton Raphson"
      ],
      "metadata": {
        "id": "XX6f9MQOaTas"
      }
    },
    {
      "cell_type": "code",
      "source": [
        "import numpy as np\n",
        "\n",
        "def my_bisection(f, a, b, e): \n",
        "  if np.sign(f(a)) == np.sign(f(b)): \n",
        "    raise Exception('Tidak ada akar pada interval a dan b')\n",
        "  m = (a + b)/2\n",
        "  if np.abs(f(m)) < e:\n",
        "    return m \n",
        "  elif np.sign(f(a)) == np.sign(f(m)): \n",
        "    return my_bisection(f, m, b, e) \n",
        "  elif np.sign(f(b)) == np.sign(f(m)): \n",
        "    return my_bisection(f, a, m, e) \n",
        "\n",
        "#Nomor 1 (a)\n",
        "f = lambda x: x**3-2*x+1 \n",
        "hasil = my_bisection(f, 0, 1, 0.1) \n",
        "print(\"Interval [0, 1] dengan batasan 0.1\")\n",
        "print(\"1] x    =\", hasil)\n",
        "print(\"   f(x) =\", f(hasil))\n",
        "\n",
        "hasil2 = my_bisection(f, 0.25, 0.75, 0.01)\n",
        "print(\"\\nInterval [0.25, 0.75] dengan batasan 0.01\")\n",
        "print(\"2] x    =\", hasil2)\n",
        "print(\"   f(x) =\", f(hasil2))"
      ],
      "metadata": {
        "id": "MjocESJra-b5",
        "colab": {
          "base_uri": "https://localhost:8080/"
        },
        "outputId": "c99793aa-9571-483e-8b57-9257ac97d355"
      },
      "execution_count": null,
      "outputs": [
        {
          "output_type": "stream",
          "name": "stdout",
          "text": [
            "Interval [0, 1] dengan batasan 0.1\n",
            "coba = [0.61803399]\n",
            "1] x    = 0.75\n",
            "   f(x) = -0.078125\n",
            "\n",
            "Interval [0.25, 0.75] dengan batasan 0.01\n",
            "2] x    = 0.625\n",
            "   f(x) = -0.005859375\n"
          ]
        }
      ]
    },
    {
      "cell_type": "code",
      "source": [
        "#Nomor 1 (b)\n",
        "import math\n",
        "\n",
        "f = lambda x: math.e**x-x\n",
        "h1 = my_bisection(f, 1, 2, 0.1) \n",
        "print(\"h1 =\", h1)\n",
        "print(\"f(h1) =\", f(h1))"
      ],
      "metadata": {
        "colab": {
          "base_uri": "https://localhost:8080/",
          "height": 358
        },
        "id": "bJsXBulh9Lwa",
        "outputId": "02b9c2c3-e0a6-4c62-c7af-e342753ed531"
      },
      "execution_count": null,
      "outputs": [
        {
          "output_type": "error",
          "ename": "Exception",
          "evalue": "ignored",
          "traceback": [
            "\u001b[0;31m---------------------------------------------------------------------------\u001b[0m",
            "\u001b[0;31mException\u001b[0m                                 Traceback (most recent call last)",
            "\u001b[0;32m<ipython-input-116-654dbf8e48c5>\u001b[0m in \u001b[0;36m<module>\u001b[0;34m\u001b[0m\n\u001b[1;32m      3\u001b[0m \u001b[0;34m\u001b[0m\u001b[0m\n\u001b[1;32m      4\u001b[0m \u001b[0mf\u001b[0m \u001b[0;34m=\u001b[0m \u001b[0;32mlambda\u001b[0m \u001b[0mx\u001b[0m\u001b[0;34m:\u001b[0m \u001b[0mmath\u001b[0m\u001b[0;34m.\u001b[0m\u001b[0me\u001b[0m\u001b[0;34m**\u001b[0m\u001b[0mx\u001b[0m\u001b[0;34m-\u001b[0m\u001b[0mx\u001b[0m\u001b[0;34m\u001b[0m\u001b[0;34m\u001b[0m\u001b[0m\n\u001b[0;32m----> 5\u001b[0;31m \u001b[0mh1\u001b[0m \u001b[0;34m=\u001b[0m \u001b[0mmy_bisection\u001b[0m\u001b[0;34m(\u001b[0m\u001b[0mf\u001b[0m\u001b[0;34m,\u001b[0m \u001b[0;36m1\u001b[0m\u001b[0;34m,\u001b[0m \u001b[0;36m2\u001b[0m\u001b[0;34m,\u001b[0m \u001b[0;36m0.1\u001b[0m\u001b[0;34m)\u001b[0m\u001b[0;34m\u001b[0m\u001b[0;34m\u001b[0m\u001b[0m\n\u001b[0m\u001b[1;32m      6\u001b[0m \u001b[0mprint\u001b[0m\u001b[0;34m(\u001b[0m\u001b[0;34m\"h1 =\"\u001b[0m\u001b[0;34m,\u001b[0m \u001b[0mh1\u001b[0m\u001b[0;34m)\u001b[0m\u001b[0;34m\u001b[0m\u001b[0;34m\u001b[0m\u001b[0m\n\u001b[1;32m      7\u001b[0m \u001b[0mprint\u001b[0m\u001b[0;34m(\u001b[0m\u001b[0;34m\"f(h1) =\"\u001b[0m\u001b[0;34m,\u001b[0m \u001b[0mf\u001b[0m\u001b[0;34m(\u001b[0m\u001b[0mh1\u001b[0m\u001b[0;34m)\u001b[0m\u001b[0;34m)\u001b[0m\u001b[0;34m\u001b[0m\u001b[0;34m\u001b[0m\u001b[0m\n",
            "\u001b[0;32m<ipython-input-111-1e863cd07ad1>\u001b[0m in \u001b[0;36mmy_bisection\u001b[0;34m(f, a, b, e)\u001b[0m\n\u001b[1;32m      2\u001b[0m \u001b[0;32mdef\u001b[0m \u001b[0mmy_bisection\u001b[0m\u001b[0;34m(\u001b[0m\u001b[0mf\u001b[0m\u001b[0;34m,\u001b[0m \u001b[0ma\u001b[0m\u001b[0;34m,\u001b[0m \u001b[0mb\u001b[0m\u001b[0;34m,\u001b[0m \u001b[0me\u001b[0m\u001b[0;34m)\u001b[0m\u001b[0;34m:\u001b[0m\u001b[0;34m\u001b[0m\u001b[0;34m\u001b[0m\u001b[0m\n\u001b[1;32m      3\u001b[0m   \u001b[0;32mif\u001b[0m \u001b[0mnp\u001b[0m\u001b[0;34m.\u001b[0m\u001b[0msign\u001b[0m\u001b[0;34m(\u001b[0m\u001b[0mf\u001b[0m\u001b[0;34m(\u001b[0m\u001b[0ma\u001b[0m\u001b[0;34m)\u001b[0m\u001b[0;34m)\u001b[0m \u001b[0;34m==\u001b[0m \u001b[0mnp\u001b[0m\u001b[0;34m.\u001b[0m\u001b[0msign\u001b[0m\u001b[0;34m(\u001b[0m\u001b[0mf\u001b[0m\u001b[0;34m(\u001b[0m\u001b[0mb\u001b[0m\u001b[0;34m)\u001b[0m\u001b[0;34m)\u001b[0m\u001b[0;34m:\u001b[0m\u001b[0;34m\u001b[0m\u001b[0;34m\u001b[0m\u001b[0m\n\u001b[0;32m----> 4\u001b[0;31m     \u001b[0;32mraise\u001b[0m \u001b[0mException\u001b[0m\u001b[0;34m(\u001b[0m\u001b[0;34m'Tidak ada akar pada interval a dan b'\u001b[0m\u001b[0;34m)\u001b[0m\u001b[0;34m\u001b[0m\u001b[0;34m\u001b[0m\u001b[0m\n\u001b[0m\u001b[1;32m      5\u001b[0m   \u001b[0mm\u001b[0m \u001b[0;34m=\u001b[0m \u001b[0;34m(\u001b[0m\u001b[0ma\u001b[0m \u001b[0;34m+\u001b[0m \u001b[0mb\u001b[0m\u001b[0;34m)\u001b[0m\u001b[0;34m/\u001b[0m\u001b[0;36m2\u001b[0m\u001b[0;34m\u001b[0m\u001b[0;34m\u001b[0m\u001b[0m\n\u001b[1;32m      6\u001b[0m   \u001b[0;32mif\u001b[0m \u001b[0mnp\u001b[0m\u001b[0;34m.\u001b[0m\u001b[0mabs\u001b[0m\u001b[0;34m(\u001b[0m\u001b[0mf\u001b[0m\u001b[0;34m(\u001b[0m\u001b[0mm\u001b[0m\u001b[0;34m)\u001b[0m\u001b[0;34m)\u001b[0m \u001b[0;34m<\u001b[0m \u001b[0me\u001b[0m\u001b[0;34m:\u001b[0m\u001b[0;34m\u001b[0m\u001b[0;34m\u001b[0m\u001b[0m\n",
            "\u001b[0;31mException\u001b[0m: Tidak ada akar pada interval a dan b"
          ]
        }
      ]
    },
    {
      "cell_type": "code",
      "source": [
        "#Nomor 2\n",
        "f = lambda x: x**3-2*x+1\n",
        "def bisection(f, a, b, e):\n",
        "    n = 0\n",
        "    condition = True\n",
        "    while condition:\n",
        "        m = (a+b)/2\n",
        "        if f(a) * f(m) < 0:\n",
        "            b = m\n",
        "        else:\n",
        "            a = m  \n",
        "        n = n + 1\n",
        "        if f(a) * f(b) > 0:\n",
        "          raise Exception('Tidak ada akar pada interval a dan b')\n",
        "        condition = abs(f(m)) > e\n",
        "    print(\"x =\", m)\n",
        "    print(\"f(x) =\", f(m))\n",
        "    print(\"Berhenti di Iterasi Ke-%d\" % (n))"
      ],
      "metadata": {
        "id": "5QouTzpCPFMc"
      },
      "execution_count": null,
      "outputs": []
    }
  ]
}