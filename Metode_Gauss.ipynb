{
  "nbformat": 4,
  "nbformat_minor": 0,
  "metadata": {
    "colab": {
      "provenance": []
    },
    "kernelspec": {
      "name": "python3",
      "display_name": "Python 3"
    },
    "language_info": {
      "name": "python"
    }
  },
  "cells": [
    {
      "cell_type": "markdown",
      "source": [
        "**Metode Gauss**"
      ],
      "metadata": {
        "id": "7KmWU2kaRjv-"
      }
    },
    {
      "cell_type": "code",
      "execution_count": 7,
      "metadata": {
        "colab": {
          "base_uri": "https://localhost:8080/"
        },
        "id": "GxihCDTWLMGt",
        "outputId": "654df04d-648c-4316-94c8-40255fee8d36"
      },
      "outputs": [
        {
          "output_type": "stream",
          "name": "stdout",
          "text": [
            "Masukkan jumlah variabel: 2\n",
            "Masukkan koefisien dan nilai kanan pada SPL:\n",
            "a[0][0]=1\n",
            "a[0][1]=2\n",
            "a[0][2]=2\n",
            "a[1][0]=2\n",
            "a[1][1]=3\n",
            "a[1][2]=5\n",
            "\n",
            "Solusi SPL yang didapat dari jumlah variabel yang diinput adalah: \n",
            "X0 = 4.00\tX1 = -1.00\t"
          ]
        }
      ],
      "source": [
        "import numpy as np\n",
        "import sys\n",
        " \n",
        "n = int(input('Masukkan jumlah variabel: ')) #Memasukkan jumlah variabel yang akan dieksekusi\n",
        "a = np.zeros((n,n+1))\n",
        "x = np.zeros(n)\n",
        "\n",
        "print('Masukkan koefisien dan nilai kanan pada SPL:') #Memasukkan koefisian dan nilai kanan\n",
        "for i in range(n): #Perulangan jika i sampai dengan n\n",
        "    for j in range(n+1): #Perulangan jika i sampai dengan n+1\n",
        "        a[i][j] = float(input( 'a['+str(i)+']['+ str(j)+']=')) #Memasukkan nilai dari a[i][j]\n",
        "for i in range(n):\n",
        "    if a[i][i] == 0.0: #Jika terdapat 0 pada diagonal utama maka sistem akan keluar\n",
        "        sys.exit('Terdapat nilai 0 pada diagonal utama')\n",
        "         \n",
        "    for j in range(i+1, n):\n",
        "        ratio = a[j][i]/a[i][i] #nilai a[j][i] dibagi dengan a[i][i] ditampung di variabel ratio\n",
        "         \n",
        "        for k in range(n+1):\n",
        "            a[j][k] = a[j][k] - ratio * a[i][k]\n",
        " \n",
        "x[n-1] = a[n-1][n]/a[n-1][n-1]\n",
        " \n",
        "for i in range(n-2,-1,-1):\n",
        "    x[i] = a[i][n]\n",
        "     \n",
        "    for j in range(i+1,n):\n",
        "        x[i] = x[i] - a[i][j]*x[j]\n",
        "     \n",
        "    x[i] = x[i]/a[i][i]\n",
        " \n",
        "print('\\nSolusi SPL yang didapat dari jumlah variabel yang diinput adalah: ') #mencetak hasil perhitungan\n",
        "for i in range(n):\n",
        "    print('X%d = %0.2f' %(i,x[i]), end = '\\t')"
      ]
    }
  ]
}